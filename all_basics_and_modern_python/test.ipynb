{
 "cells": [
  {
   "cell_type": "code",
   "execution_count": null,
   "metadata": {},
   "outputs": [],
   "source": [
    "a,b,c,d,*other,g = [1,2,3,4,5,6,7,8,9]\n",
    "print(a)\n",
    "print(b)\n",
    "print(c)\n",
    "print(d)\n",
    "print(other)\n",
    "print(g)"
   ]
  },
  {
   "cell_type": "code",
   "execution_count": null,
   "metadata": {},
   "outputs": [],
   "source": [
    "asd = [1,2,30]\n",
    "asdf = {\"a\":1, \"b\":2}"
   ]
  },
  {
   "cell_type": "code",
   "execution_count": null,
   "metadata": {},
   "outputs": [],
   "source": [
    "print(asdf)\n",
    "print(**asdf)"
   ]
  },
  {
   "cell_type": "code",
   "execution_count": null,
   "metadata": {},
   "outputs": [],
   "source": [
    "import bisect\n",
    "cuts = [20,40, 40, 40,60,80]\n",
    "grades = 'EDCBA'\n",
    "bisect.bisect_left(cuts,50)\n",
    "# [ bisect.bisect(cuts,x) for x in [10,30,50,80,100] ]\n"
   ]
  },
  {
   "cell_type": "code",
   "execution_count": null,
   "metadata": {},
   "outputs": [],
   "source": [
    "from random import choices,shuffle\n",
    "trial = lambda: choices(['heads','tails'], cum_weights=[0.60,1.00], k=7).count('heads')>=5     \n",
    "print(trial(choices))"
   ]
  },
  {
   "cell_type": "code",
   "execution_count": null,
   "metadata": {},
   "outputs": [],
   "source": [
    "\n",
    "list(zip(['abc','def','ghi']))\n",
    "list(zip(*['abc','def','ghi']))\n",
    "\n",
    "for part in zip(*[iter('abadffghi')]*3):\n",
    "    di = dict()\n",
    "    \"\".join([di.setdefault(char,char) for char in part if char not in di])\n",
    "    "
   ]
  },
  {
   "cell_type": "code",
   "execution_count": null,
   "metadata": {},
   "outputs": [],
   "source": []
  },
  {
   "cell_type": "code",
   "execution_count": null,
   "metadata": {},
   "outputs": [],
   "source": [
    "def myname(func):\n",
    "    def sirname():\n",
    "        print(\"yash\")\n",
    "        func()\n",
    "        print(\"dobariya\")\n",
    "    return sirname\n",
    "\n",
    "@myname\n",
    "def name():\n",
    "  print(\"hii\")\n",
    "name()"
   ]
  },
  {
   "cell_type": "code",
   "execution_count": null,
   "metadata": {},
   "outputs": [],
   "source": [
    "def my_decorator(func):               #<-my decorator(super charger), accepts higher order function\n",
    "    def wrap_func():\n",
    "        print(\"***************\")\n",
    "        print(func.__name__)\n",
    "        func()\n",
    "        print(\"***************\")\n",
    "        return 5\n",
    "\n",
    "    return wrap_func                    #-> should have returned just reference, but since it is used as a decorater, it's return statement will automatically call function\n",
    "\n",
    "@my_decorator\n",
    "def callll(): \n",
    "  print(\"Just callin!\") #<-sequence of thier run in unstable\n",
    "\n",
    "callll()\n",
    "\n",
    "\n",
    "################################################\n",
    "\n",
    "# asd = my_decorator(callll)\n",
    "# return asd()\n"
   ]
  },
  {
   "cell_type": "code",
   "execution_count": null,
   "metadata": {},
   "outputs": [],
   "source": [
    "def abcd(a):\n",
    "\n",
    "    def get_sum():\n",
    "        return 5 + a\n",
    "    \n",
    "    return get_sum"
   ]
  },
  {
   "cell_type": "code",
   "execution_count": null,
   "metadata": {},
   "outputs": [],
   "source": [
    "ex_sum(\"1\", \"2\", \"3\")\n"
   ]
  },
  {
   "cell_type": "code",
   "execution_count": null,
   "metadata": {},
   "outputs": [],
   "source": [
    "def decorator(function):\n",
    "    def sum_of(*args ,**kwargs):\n",
    "        returned_value = function(*args, **kwargs)\n",
    "        return returned_value\n",
    "    \n",
    "    return sum_of\n",
    "\n",
    "@decorator\n",
    "def ex_sum(a, b, c):\n",
    "    return a+b+c\n",
    "\n",
    "a, b, c= 1, 2 ,3\n",
    "ex_sum(a, b, c)\n",
    "\n",
    "###############################\n",
    "# asd = my_decorator(callll)\n",
    "# return asd()\n",
    "\n",
    "# sum_of = decorator(ex_sum)\n",
    "# sum_of(1,2,3)\n"
   ]
  },
  {
   "cell_type": "code",
   "execution_count": null,
   "metadata": {},
   "outputs": [],
   "source": [
    "def asd(a):\n",
    "    def qwer(b,c):\n",
    "        return a+b+c\n",
    "    \n",
    "    return qwer\n"
   ]
  },
  {
   "cell_type": "code",
   "execution_count": null,
   "metadata": {},
   "outputs": [],
   "source": [
    "jk = asd(1)"
   ]
  },
  {
   "cell_type": "code",
   "execution_count": null,
   "metadata": {},
   "outputs": [],
   "source": [
    "def sum_of(**kwargs):\n",
    "    for key,value in kwargs.items():\n",
    "        print( key,value)\n",
    "    return kwargs\n",
    "\n",
    "sum_of(gujarat = \"1\", delhi = '2', bombai='3')"
   ]
  },
  {
   "cell_type": "code",
   "execution_count": null,
   "metadata": {},
   "outputs": [],
   "source": [
    "\n",
    "class Emp():\n",
    "    def __init__(self, id, name, Add):\n",
    "        self.id = id\n",
    "        self.name = name\n",
    "        self.Add = Add\n",
    " \n",
    "# Class freelancer inherits EMP\n",
    "class Freelance(Emp):\n",
    "    def __init__(self, id, name, Add, Emails):\n",
    "        super().__init__(id, name, Add,Emails)\n",
    "        \n",
    "        self.Emails = Emails\n",
    " \n",
    "Emp_1 = Freelance(103, \"Suraj kr gupta\", \"Noida\" , \"KKK@gmails\")\n",
    "print('The ID is:', Emp_1.id)\n",
    "print('The Name is:', Emp_1.name)\n",
    "print('The Address is:', Emp_1.Add)\n",
    "print('The Emails is:', Emp_1.Emails)"
   ]
  },
  {
   "cell_type": "code",
   "execution_count": null,
   "metadata": {},
   "outputs": [],
   "source": [
    "e2s = {                         #this is very common arrangement of data, even if you look into google for a word's meaning, you'll get one key search word and a list of results associated with it\n",
    "    'one':['uno'],\n",
    "    'free':['libre','gratis']\n",
    "}\n",
    "\n",
    "#best\n",
    "from collections import defaultdict\n",
    "from pprint import pprint\n",
    "s2e = defaultdict(list)\n",
    "for k,listt in e2s.items():\n",
    "    for v in listt:\n",
    "        s2e[v].append(k)\n",
    "pprint(s2e, width=40)"
   ]
  },
  {
   "cell_type": "code",
   "execution_count": null,
   "metadata": {},
   "outputs": [],
   "source": [
    "def fun(username, password, is_premium_user):\n",
    "    pass\n",
    "\n",
    "#11 bad\n",
    "fun('Parth',\"2sf6h\", True)\n",
    "fun(username=\"Parth\", password=\"2sf6h\", is_premium_user=True)\n",
    "# print(a)"
   ]
  },
  {
   "cell_type": "code",
   "execution_count": null,
   "metadata": {},
   "outputs": [],
   "source": [
    "from collections import namedtuple\n",
    "# Class_Result = namedtuple('Result', ['passes','fails'])\n",
    "#or\n",
    "Class_Result = namedtuple('Result', [('passes',int), ('fails',int)])\n",
    "class_result = Class_Result(9,1)\n",
    "print(class_result)                 #now reading the output makes much more sense while re-reading\n",
    "print(class_result[0])              #can acess value regularly\n",
    "# print(class_result,\"passes\") "
   ]
  },
  {
   "cell_type": "code",
   "execution_count": 51,
   "metadata": {},
   "outputs": [
    {
     "name": "stdout",
     "output_type": "stream",
     "text": [
      "0, 1 1 1\n",
      "1, 1 2 1\n",
      "1, 2 3 2\n",
      "2, 3 5 3\n",
      "3, 5 8 5\n",
      "5, 8 13 8\n",
      "8, 13 21 13\n",
      "13, 21 34 21\n",
      "21, 34 55 34\n",
      "34, 55 89 55\n"
     ]
    }
   ],
   "source": [
    "def fibonacci(len_fib):\n",
    "    x=0\n",
    "    y=1\n",
    "    for i in range(len_fib):\n",
    "        print(x, end=', ')\n",
    "        t = y\n",
    "        y = x+y\n",
    "        x = t\n",
    "        print(t,y,x)\n",
    "fibonacci(len_fib=10)"
   ]
  },
  {
   "cell_type": "code",
   "execution_count": 52,
   "metadata": {},
   "outputs": [
    {
     "name": "stdout",
     "output_type": "stream",
     "text": [
      "['yo!', 'how', 'are']\n"
     ]
    }
   ],
   "source": [
    "my_list = ['hi','how','are','you']\n",
    "del[my_list[0]]\n",
    "my_list.pop()\n",
    "my_list.insert(0,\"yo!\")\n",
    "print(my_list)\n"
   ]
  },
  {
   "cell_type": "code",
   "execution_count": 56,
   "metadata": {},
   "outputs": [
    {
     "name": "stdout",
     "output_type": "stream",
     "text": [
      "deque(['yo!', 'how', 'are'])\n"
     ]
    },
    {
     "data": {
      "text/plain": [
       "['yo!', 'how', 'are']"
      ]
     },
     "execution_count": 56,
     "metadata": {},
     "output_type": "execute_result"
    }
   ],
   "source": [
    "from collections import deque\n",
    "my_new_list = deque(['hi','how','are','you'])       #better data structure(less time complexity) to insert and remove items from front and end\n",
    "del[my_new_list[0]]\n",
    "my_new_list.pop()\n",
    "my_new_list.insert(0,\"yo!\")\n",
    "print(my_new_list)\n",
    "my_new_list[0]\n",
    "[*my_new_list]  "
   ]
  },
  {
   "cell_type": "code",
   "execution_count": 57,
   "metadata": {},
   "outputs": [
    {
     "name": "stdout",
     "output_type": "stream",
     "text": [
      "Critical Section 1\n",
      "Critical Section 2\n"
     ]
    }
   ],
   "source": [
    "import threading\n",
    "lock = threading.Lock()\n",
    "\n",
    "#18 bad \n",
    "lock.acquire()\n",
    "\n",
    "try:\n",
    "    print('Critical Section 1')\n",
    "    print('Critical Section 2')\n",
    "    \n",
    "finally:\n",
    "    lock.release()"
   ]
  }
 ],
 "metadata": {
  "kernelspec": {
   "display_name": "Python 3.10.5 64-bit",
   "language": "python",
   "name": "python3"
  },
  "language_info": {
   "codemirror_mode": {
    "name": "ipython",
    "version": 3
   },
   "file_extension": ".py",
   "mimetype": "text/x-python",
   "name": "python",
   "nbconvert_exporter": "python",
   "pygments_lexer": "ipython3",
   "version": "3.10.5"
  },
  "orig_nbformat": 4,
  "vscode": {
   "interpreter": {
    "hash": "c8251b9bc52378f6afdf5d81e6c7884f9d71e1e5d8da0db69c40a14f28e8a63f"
   }
  }
 },
 "nbformat": 4,
 "nbformat_minor": 2
}
