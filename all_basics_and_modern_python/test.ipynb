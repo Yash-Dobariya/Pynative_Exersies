{
 "cells": [
  {
   "cell_type": "code",
   "execution_count": 78,
   "metadata": {},
   "outputs": [
    {
     "name": "stdout",
     "output_type": "stream",
     "text": [
      "1\n",
      "2\n",
      "3\n",
      "4\n",
      "[5, 6, 7, 8]\n",
      "9\n"
     ]
    }
   ],
   "source": [
    "a,b,c,d,*other,g = [1,2,3,4,5,6,7,8,9]\n",
    "print(a)\n",
    "print(b)\n",
    "print(c)\n",
    "print(d)\n",
    "print(other)\n",
    "print(g)"
   ]
  },
  {
   "cell_type": "code",
   "execution_count": 79,
   "metadata": {},
   "outputs": [],
   "source": [
    "asd = [1,2,30]\n",
    "asdf = {\"a\":1, \"b\":2}"
   ]
  },
  {
   "cell_type": "code",
   "execution_count": 80,
   "metadata": {},
   "outputs": [
    {
     "name": "stdout",
     "output_type": "stream",
     "text": [
      "{'a': 1, 'b': 2}\n"
     ]
    },
    {
     "ename": "TypeError",
     "evalue": "'a' is an invalid keyword argument for print()",
     "output_type": "error",
     "traceback": [
      "\u001b[1;31m---------------------------------------------------------------------------\u001b[0m",
      "\u001b[1;31mTypeError\u001b[0m                                 Traceback (most recent call last)",
      "Cell \u001b[1;32mIn [80], line 2\u001b[0m\n\u001b[0;32m      1\u001b[0m \u001b[39mprint\u001b[39m(asdf)\n\u001b[1;32m----> 2\u001b[0m \u001b[39mprint\u001b[39m(\u001b[39m*\u001b[39m\u001b[39m*\u001b[39masdf)\n",
      "\u001b[1;31mTypeError\u001b[0m: 'a' is an invalid keyword argument for print()"
     ]
    }
   ],
   "source": [
    "print(asdf)\n",
    "print(**asdf)"
   ]
  },
  {
   "cell_type": "code",
   "execution_count": null,
   "metadata": {},
   "outputs": [
    {
     "data": {
      "text/plain": [
       "1"
      ]
     },
     "execution_count": 93,
     "metadata": {},
     "output_type": "execute_result"
    }
   ],
   "source": [
    "import bisect\n",
    "cuts = [20,40, 40, 40,60,80]\n",
    "grades = 'EDCBA'\n",
    "bisect.bisect_left(cuts,50)\n",
    "# [ bisect.bisect(cuts,x) for x in [10,30,50,80,100] ]\n"
   ]
  },
  {
   "cell_type": "code",
   "execution_count": null,
   "metadata": {},
   "outputs": [
    {
     "name": "stdout",
     "output_type": "stream",
     "text": [
      "{'item1': 5, 'item2': 10}\n",
      "5\n",
      "\n",
      "'kwargs' contains a dictionary, Sum : 15\n"
     ]
    }
   ],
   "source": []
  },
  {
   "cell_type": "code",
   "execution_count": 71,
   "metadata": {},
   "outputs": [
    {
     "ename": "TypeError",
     "evalue": "<lambda>() takes 0 positional arguments but 1 was given",
     "output_type": "error",
     "traceback": [
      "\u001b[1;31m---------------------------------------------------------------------------\u001b[0m",
      "\u001b[1;31mTypeError\u001b[0m                                 Traceback (most recent call last)",
      "Cell \u001b[1;32mIn [71], line 3\u001b[0m\n\u001b[0;32m      1\u001b[0m \u001b[39mfrom\u001b[39;00m \u001b[39mrandom\u001b[39;00m \u001b[39mimport\u001b[39;00m choices,shuffle\n\u001b[0;32m      2\u001b[0m trial \u001b[39m=\u001b[39m \u001b[39mlambda\u001b[39;00m: choices([\u001b[39m'\u001b[39m\u001b[39mheads\u001b[39m\u001b[39m'\u001b[39m,\u001b[39m'\u001b[39m\u001b[39mtails\u001b[39m\u001b[39m'\u001b[39m], cum_weights\u001b[39m=\u001b[39m[\u001b[39m0.60\u001b[39m,\u001b[39m1.00\u001b[39m], k\u001b[39m=\u001b[39m\u001b[39m7\u001b[39m)\u001b[39m.\u001b[39mcount(\u001b[39m'\u001b[39m\u001b[39mheads\u001b[39m\u001b[39m'\u001b[39m)\u001b[39m>\u001b[39m\u001b[39m=\u001b[39m\u001b[39m5\u001b[39m     \n\u001b[1;32m----> 3\u001b[0m \u001b[39mprint\u001b[39m(trial(choices))\n",
      "\u001b[1;31mTypeError\u001b[0m: <lambda>() takes 0 positional arguments but 1 was given"
     ]
    }
   ],
   "source": [
    "from random import choices,shuffle\n",
    "trial = lambda: choices(['heads','tails'], cum_weights=[0.60,1.00], k=7).count('heads')>=5     \n",
    "print(trial(choices))"
   ]
  },
  {
   "cell_type": "code",
   "execution_count": 98,
   "metadata": {},
   "outputs": [],
   "source": [
    "\n",
    "list(zip(['abc','def','ghi']))\n",
    "list(zip(*['abc','def','ghi']))\n",
    "\n",
    "for part in zip(*[iter('abadffghi')]*3):\n",
    "    di = dict()\n",
    "    \"\".join([di.setdefault(char,char) for char in part if char not in di])\n",
    "    "
   ]
  },
  {
   "cell_type": "code",
   "execution_count": null,
   "metadata": {},
   "outputs": [],
   "source": []
  },
  {
   "cell_type": "code",
   "execution_count": 122,
   "metadata": {},
   "outputs": [
    {
     "name": "stdout",
     "output_type": "stream",
     "text": [
      "yash\n",
      "hii\n",
      "dobariya\n"
     ]
    }
   ],
   "source": [
    "def myname(func):\n",
    "    def sirname():\n",
    "        print(\"yash\")\n",
    "        func()\n",
    "        print(\"dobariya\")\n",
    "    return sirname\n",
    "\n",
    "@myname\n",
    "def name():\n",
    "  print(\"hii\")\n",
    "name()"
   ]
  },
  {
   "cell_type": "code",
   "execution_count": 187,
   "metadata": {},
   "outputs": [
    {
     "name": "stdout",
     "output_type": "stream",
     "text": [
      "***************\n",
      "callll\n",
      "Just callin!\n",
      "***************\n"
     ]
    },
    {
     "data": {
      "text/plain": [
       "5"
      ]
     },
     "execution_count": 187,
     "metadata": {},
     "output_type": "execute_result"
    }
   ],
   "source": [
    "def my_decorator(func):               #<-my decorator(super charger), accepts higher order function\n",
    "    def wrap_func():\n",
    "        print(\"***************\")\n",
    "        print(func.__name__)\n",
    "        func()\n",
    "        print(\"***************\")\n",
    "        return 5\n",
    "\n",
    "    return wrap_func                    #-> should have returned just reference, but since it is used as a decorater, it's return statement will automatically call function\n",
    "\n",
    "@my_decorator\n",
    "def callll(): \n",
    "  print(\"Just callin!\") #<-sequence of thier run in unstable\n",
    "\n",
    "callll()\n",
    "\n",
    "\n",
    "################################################\n",
    "\n",
    "# asd = my_decorator(callll)\n",
    "# return asd()\n"
   ]
  },
  {
   "cell_type": "code",
   "execution_count": 177,
   "metadata": {},
   "outputs": [],
   "source": [
    "def abcd(a):\n",
    "\n",
    "    def get_sum():\n",
    "        return 5 + a\n",
    "    \n",
    "    return get_sum"
   ]
  },
  {
   "cell_type": "code",
   "execution_count": 181,
   "metadata": {},
   "outputs": [
    {
     "ename": "NameError",
     "evalue": "name 'ex_sum' is not defined",
     "output_type": "error",
     "traceback": [
      "\u001b[1;31m---------------------------------------------------------------------------\u001b[0m",
      "\u001b[1;31mNameError\u001b[0m                                 Traceback (most recent call last)",
      "Cell \u001b[1;32mIn [181], line 1\u001b[0m\n\u001b[1;32m----> 1\u001b[0m ex_sum(\u001b[39m\"\u001b[39m\u001b[39m1\u001b[39m\u001b[39m\"\u001b[39m, \u001b[39m\"\u001b[39m\u001b[39m2\u001b[39m\u001b[39m\"\u001b[39m, \u001b[39m\"\u001b[39m\u001b[39m3\u001b[39m\u001b[39m\"\u001b[39m)\n",
      "\u001b[1;31mNameError\u001b[0m: name 'ex_sum' is not defined"
     ]
    }
   ],
   "source": [
    "ex_sum(\"1\", \"2\", \"3\")\n"
   ]
  },
  {
   "cell_type": "code",
   "execution_count": 240,
   "metadata": {},
   "outputs": [
    {
     "data": {
      "text/plain": [
       "6"
      ]
     },
     "execution_count": 240,
     "metadata": {},
     "output_type": "execute_result"
    }
   ],
   "source": [
    "def decorator(function):\n",
    "    def sum_of(*args ,**kwargs):\n",
    "        returned_value = function(*args, **kwargs)\n",
    "        return returned_value\n",
    "    \n",
    "    return sum_of\n",
    "\n",
    "@decorator\n",
    "def ex_sum(a, b, c):\n",
    "    return a+b+c\n",
    "\n",
    "a, b, c= 1, 2 ,3\n",
    "ex_sum(a, b, c)\n",
    "\n",
    "###############################\n",
    "# asd = my_decorator(callll)\n",
    "# return asd()\n",
    "\n",
    "# sum_of = decorator(ex_sum)\n",
    "# sum_of(1,2,3)\n"
   ]
  },
  {
   "cell_type": "code",
   "execution_count": 225,
   "metadata": {},
   "outputs": [],
   "source": [
    "def asd(a):\n",
    "    def qwer(b,c):\n",
    "        return a+b+c\n",
    "    \n",
    "    return qwer\n"
   ]
  },
  {
   "cell_type": "code",
   "execution_count": 241,
   "metadata": {},
   "outputs": [],
   "source": [
    "jk = asd(1)"
   ]
  },
  {
   "cell_type": "code",
   "execution_count": 242,
   "metadata": {},
   "outputs": [
    {
     "data": {
      "text/plain": [
       "<function __main__.asd.<locals>.qwer(b, c)>"
      ]
     },
     "execution_count": 242,
     "metadata": {},
     "output_type": "execute_result"
    }
   ],
   "source": []
  },
  {
   "cell_type": "code",
   "execution_count": 294,
   "metadata": {},
   "outputs": [
    {
     "name": "stdout",
     "output_type": "stream",
     "text": [
      "gujarat 1\n",
      "delhi 2\n",
      "bombai 3\n"
     ]
    },
    {
     "data": {
      "text/plain": [
       "{'gujarat': '1', 'delhi': '2', 'bombai': '3'}"
      ]
     },
     "execution_count": 294,
     "metadata": {},
     "output_type": "execute_result"
    }
   ],
   "source": [
    "\n",
    "def sum_of(**kwargs):\n",
    "    for key,value in kwargs.items():\n",
    "        print( key,value)\n",
    "    return kwargs\n",
    "\n",
    "sum_of(gujarat = \"1\", delhi = '2', bombai='3')\n",
    "\n",
    "\n"
   ]
  },
  {
   "cell_type": "code",
   "execution_count": 37,
   "metadata": {},
   "outputs": [],
   "source": [
    "class PlayerCharacter:\n",
    "\n",
    "    membership = True\n",
    "    \n",
    "\n",
    "    def __init__(self, name):  #<-'self' is necessary\n",
    "        self.name = name\n",
    "        print(\"\\nMembership :\", self.membership)\n",
    "        print(\"Membership :\", PlayerCharacter.membership)\n",
    "\n",
    "    @classmethod\n",
    "    def classMethod(cls, num1, num2):  #<-'cls' is necessary  #because it returns a new class object\n",
    "        return cls(\"Uttam\")\n",
    "\n",
    "    @staticmethod\n",
    "    def staticMethod(num1, num2):\n",
    "        return num1 + num2\n",
    "\n",
    "    def run(self):  #<-'self' is necessary for accessing the class variable in the method declaration\n",
    "        print(f\"\\n{self.name} is Running\")  #<-'self' needed\n",
    "\n",
    "    def activat(self):\n",
    "        self.is_active = True\n",
    "\n",
    "setattr\n"
   ]
  },
  {
   "cell_type": "code",
   "execution_count": 38,
   "metadata": {},
   "outputs": [
    {
     "name": "stdout",
     "output_type": "stream",
     "text": [
      "\n",
      "Membership : True\n",
      "Membership : True\n"
     ]
    },
    {
     "data": {
      "text/plain": [
       "<__main__.PlayerCharacter at 0x27a481d0d60>"
      ]
     },
     "execution_count": 38,
     "metadata": {},
     "output_type": "execute_result"
    }
   ],
   "source": [
    "PlayerCharacter.classMethod(12,23)"
   ]
  },
  {
   "cell_type": "code",
   "execution_count": 39,
   "metadata": {},
   "outputs": [
    {
     "name": "stdout",
     "output_type": "stream",
     "text": [
      "\n",
      "Membership : True\n",
      "Membership : True\n",
      "\n",
      "Membership : True\n",
      "Membership : True\n"
     ]
    },
    {
     "ename": "AttributeError",
     "evalue": "'int' object has no attribute 'name'",
     "output_type": "error",
     "traceback": [
      "\u001b[1;31m---------------------------------------------------------------------------\u001b[0m",
      "\u001b[1;31mAttributeError\u001b[0m                            Traceback (most recent call last)",
      "Cell \u001b[1;32mIn [39], line 3\u001b[0m\n\u001b[0;32m      1\u001b[0m player1 \u001b[39m=\u001b[39m PlayerCharacter(\u001b[39m\"\u001b[39m\u001b[39mParth\u001b[39m\u001b[39m\"\u001b[39m)\n\u001b[0;32m      2\u001b[0m player2 \u001b[39m=\u001b[39m PlayerCharacter(\u001b[39m\"\u001b[39m\u001b[39mZeal\u001b[39m\u001b[39m\"\u001b[39m)\n\u001b[1;32m----> 3\u001b[0m PlayerCharacter\u001b[39m.\u001b[39;49mrun(\u001b[39m123\u001b[39;49m)\n\u001b[0;32m      4\u001b[0m \u001b[39mprint\u001b[39m(\u001b[39m\"\u001b[39m\u001b[39mPlayer 1 :\u001b[39m\u001b[39m\"\u001b[39m, player1\u001b[39m.\u001b[39mname)\n\u001b[0;32m      5\u001b[0m \u001b[39mprint\u001b[39m(\u001b[39m\"\u001b[39m\u001b[39mPlayer 2 Membership:\u001b[39m\u001b[39m\"\u001b[39m, player2\u001b[39m.\u001b[39mmembership)\n",
      "Cell \u001b[1;32mIn [37], line 19\u001b[0m, in \u001b[0;36mPlayerCharacter.run\u001b[1;34m(self)\u001b[0m\n\u001b[0;32m     18\u001b[0m \u001b[39mdef\u001b[39;00m \u001b[39mrun\u001b[39m(\u001b[39mself\u001b[39m):  \u001b[39m#<-'self' is necessary for accessing the class variable in the method declaration\u001b[39;00m\n\u001b[1;32m---> 19\u001b[0m     \u001b[39mprint\u001b[39m(\u001b[39mf\u001b[39m\u001b[39m\"\u001b[39m\u001b[39m\\n\u001b[39;00m\u001b[39m{\u001b[39;00m\u001b[39mself\u001b[39;49m\u001b[39m.\u001b[39;49mname\u001b[39m}\u001b[39;00m\u001b[39m is Running\u001b[39m\u001b[39m\"\u001b[39m)\n",
      "\u001b[1;31mAttributeError\u001b[0m: 'int' object has no attribute 'name'"
     ]
    }
   ],
   "source": [
    "player1 = PlayerCharacter(\"Parth\")\n",
    "player2 = PlayerCharacter(\"Zeal\")\n",
    "PlayerCharacter.run(123)\n",
    "print(\"Player 1 :\", player1.name)\n",
    "print(\"Player 2 Membership:\", player2.membership)\n",
    "print(\"Player Membership :\", PlayerCharacter.membership)\n",
    "player2.run()\n",
    "print(\"\\n\", player2.run())  \n",
    "\n",
    "player3 = PlayerCharacter.classMethod(2, 3)\n",
    "print(\n",
    "    \"\\nCalling class method and getting new player object with 'cls' method and getting name :\",\n",
    "    player3.name)\n",
    "print(\"\\nCalling static method :\", PlayerCharacter.staticMethod(2, 3))"
   ]
  },
  {
   "cell_type": "code",
   "execution_count": 28,
   "metadata": {},
   "outputs": [
    {
     "name": "stdout",
     "output_type": "stream",
     "text": [
      "The ID is: 103\n",
      "The Name is: Suraj kr gupta\n",
      "The Address is: Noida\n",
      "The Emails is: KKK@gmails\n"
     ]
    }
   ],
   "source": [
    "\n",
    "class Emp():\n",
    "    def __init__(self, id, name, Add):\n",
    "        self.id = id\n",
    "        self.name = name\n",
    "        self.Add = Add\n",
    " \n",
    "# Class freelancer inherits EMP\n",
    "class Freelance(Emp):\n",
    "    def __init__(self, id, name, Add, Emails):\n",
    "        super().__init__(id, name, Add,Emails)\n",
    "        \n",
    "        self.Emails = Emails\n",
    " \n",
    "Emp_1 = Freelance(103, \"Suraj kr gupta\", \"Noida\" , \"KKK@gmails\")\n",
    "print('The ID is:', Emp_1.id)\n",
    "print('The Name is:', Emp_1.name)\n",
    "print('The Address is:', Emp_1.Add)\n",
    "print('The Emails is:', Emp_1.Emails)"
   ]
  },
  {
   "cell_type": "code",
   "execution_count": 41,
   "metadata": {},
   "outputs": [
    {
     "name": "stdout",
     "output_type": "stream",
     "text": [
      "\n",
      "Membership : True\n",
      "Membership : True\n",
      "\n",
      "Membership : True\n",
      "Membership : True\n"
     ]
    },
    {
     "ename": "AttributeError",
     "evalue": "'int' object has no attribute 'name'",
     "output_type": "error",
     "traceback": [
      "\u001b[1;31m---------------------------------------------------------------------------\u001b[0m",
      "\u001b[1;31mAttributeError\u001b[0m                            Traceback (most recent call last)",
      "Cell \u001b[1;32mIn [41], line 3\u001b[0m\n\u001b[0;32m      1\u001b[0m player1 \u001b[39m=\u001b[39m PlayerCharacter(\u001b[39m\"\u001b[39m\u001b[39mParth\u001b[39m\u001b[39m\"\u001b[39m)\n\u001b[0;32m      2\u001b[0m player2 \u001b[39m=\u001b[39m PlayerCharacter(\u001b[39m\"\u001b[39m\u001b[39mZeal\u001b[39m\u001b[39m\"\u001b[39m)\n\u001b[1;32m----> 3\u001b[0m PlayerCharacter\u001b[39m.\u001b[39;49mrun(\u001b[39m123\u001b[39;49m)\n\u001b[0;32m      4\u001b[0m \u001b[39mprint\u001b[39m(\u001b[39m\"\u001b[39m\u001b[39mPlayer 1 :\u001b[39m\u001b[39m\"\u001b[39m, player1\u001b[39m.\u001b[39mname)\n\u001b[0;32m      5\u001b[0m \u001b[39mprint\u001b[39m(\u001b[39m\"\u001b[39m\u001b[39mPlayer 2 Membership:\u001b[39m\u001b[39m\"\u001b[39m, player2\u001b[39m.\u001b[39mmembership)\n",
      "Cell \u001b[1;32mIn [37], line 19\u001b[0m, in \u001b[0;36mPlayerCharacter.run\u001b[1;34m(self)\u001b[0m\n\u001b[0;32m     18\u001b[0m \u001b[39mdef\u001b[39;00m \u001b[39mrun\u001b[39m(\u001b[39mself\u001b[39m):  \u001b[39m#<-'self' is necessary for accessing the class variable in the method declaration\u001b[39;00m\n\u001b[1;32m---> 19\u001b[0m     \u001b[39mprint\u001b[39m(\u001b[39mf\u001b[39m\u001b[39m\"\u001b[39m\u001b[39m\\n\u001b[39;00m\u001b[39m{\u001b[39;00m\u001b[39mself\u001b[39;49m\u001b[39m.\u001b[39;49mname\u001b[39m}\u001b[39;00m\u001b[39m is Running\u001b[39m\u001b[39m\"\u001b[39m)\n",
      "\u001b[1;31mAttributeError\u001b[0m: 'int' object has no attribute 'name'"
     ]
    }
   ],
   "source": [
    "player1 = PlayerCharacter(\"Parth\")\n",
    "player2 = PlayerCharacter(\"Zeal\")\n",
    "PlayerCharacter.run(123)\n",
    "print(\"Player 1 :\", player1.name)\n",
    "print(\"Player 2 Membership:\", player2.membership)\n",
    "print(\"Player Membership :\", PlayerCharacter.membership)\n",
    "player2.run()\n",
    "print(\"\\n\", player2.run())  \n",
    "\n",
    "player3 = PlayerCharacter.classMethod(2, 3)\n",
    "print(\n",
    "    \"\\nCalling class method and getting new player object with 'cls' method and getting name :\",\n",
    "    player3.name)\n",
    "print(\"\\nCalling static method :\", PlayerCharacter.staticMethod(2, 3))"
   ]
  },
  {
   "cell_type": "code",
   "execution_count": 85,
   "metadata": {},
   "outputs": [
    {
     "ename": "TypeError",
     "evalue": "Person.isAdult() missing 1 required positional argument: 'self'",
     "output_type": "error",
     "traceback": [
      "\u001b[1;31m---------------------------------------------------------------------------\u001b[0m",
      "\u001b[1;31mTypeError\u001b[0m                                 Traceback (most recent call last)",
      "Cell \u001b[1;32mIn [85], line 36\u001b[0m\n\u001b[0;32m     30\u001b[0m person2 \u001b[39m=\u001b[39m Person\u001b[39m.\u001b[39mfromBirthYear(\u001b[39m'\u001b[39m\u001b[39mmayank\u001b[39m\u001b[39m'\u001b[39m, \u001b[39m1996\u001b[39m)\n\u001b[0;32m     32\u001b[0m \u001b[39m# print(person1.age)\u001b[39;00m\n\u001b[0;32m     33\u001b[0m \u001b[39m# print(person2.age)\u001b[39;00m\n\u001b[0;32m     34\u001b[0m \n\u001b[0;32m     35\u001b[0m \u001b[39m# print the result\u001b[39;00m\n\u001b[1;32m---> 36\u001b[0m is_ad \u001b[39m=\u001b[39m Person\u001b[39m.\u001b[39;49misAdult()\n\u001b[0;32m     37\u001b[0m \u001b[39m# as  = Person()\u001b[39;00m\n\u001b[0;32m     38\u001b[0m Person\u001b[39m.\u001b[39mfromBirthYear(\u001b[39m\"\u001b[39m\u001b[39myash\u001b[39m\u001b[39m\"\u001b[39m,\u001b[39m2003\u001b[39m)\n",
      "\u001b[1;31mTypeError\u001b[0m: Person.isAdult() missing 1 required positional argument: 'self'"
     ]
    }
   ],
   "source": [
    "# Python program to demonstrate\n",
    "# use of class method and static method.\n",
    "from datetime import date\n",
    "\n",
    "\n",
    "class Person:\n",
    "\t__name__ = \"Person\"\n",
    "\n",
    "\tdef __init__(self, name, age):\n",
    "\t\tself.name = name\n",
    "\t\tself.age = age\n",
    "\t\n",
    "\tdef __repr__(self) -> str:\n",
    "\t\treturn f\"<<this is an object of {self.__name__}:: name => {self.name}, age => {self.age}>>\"\n",
    "\t\n",
    "\t# a class method to create a Person object by birth year.\n",
    "\t@classmethod\n",
    "\tdef fromBirthYear(cls, name, year):\n",
    "\t\t# print(name, date.today().year - year)\n",
    "\t\treturn cls(name, date.today().year - year)\n",
    "\n",
    "\t# a static method to check if a Person is adult or not.\n",
    "\t# @staticmethod\n",
    "\tdef isAdult(self):\n",
    "\t\tprint (self.age > 18)\n",
    "\n",
    "# cls = Person\n",
    "\n",
    "person1 = Person('mayank', 21)\n",
    "person2 = Person.fromBirthYear('mayank', 1996)\n",
    "\n",
    "# print(person1.age)\n",
    "# print(person2.age)\n",
    "\n",
    "# print the result\n",
    "Person.isAdult()\n",
    "# as  = Person()\n",
    "Person.fromBirthYear(\"yash\",2003)"
   ]
  },
  {
   "cell_type": "code",
   "execution_count": 80,
   "metadata": {},
   "outputs": [
    {
     "data": {
      "text/plain": [
       "<__main__.Person at 0x27a481aceb0>"
      ]
     },
     "execution_count": 80,
     "metadata": {},
     "output_type": "execute_result"
    }
   ],
   "source": [
    "person2"
   ]
  },
  {
   "cell_type": "code",
   "execution_count": 71,
   "metadata": {},
   "outputs": [
    {
     "ename": "TypeError",
     "evalue": "Strings must be encoded before hashing",
     "output_type": "error",
     "traceback": [
      "\u001b[1;31m---------------------------------------------------------------------------\u001b[0m",
      "\u001b[1;31mTypeError\u001b[0m                                 Traceback (most recent call last)",
      "Cell \u001b[1;32mIn [71], line 3\u001b[0m\n\u001b[0;32m      1\u001b[0m \u001b[39mimport\u001b[39;00m \u001b[39mhashlib\u001b[39;00m\n\u001b[1;32m----> 3\u001b[0m a\u001b[39m=\u001b[39m hashlib\u001b[39m.\u001b[39;49mmd5(\u001b[39m'\u001b[39;49m\u001b[39mThe tale of two cities\u001b[39;49m\u001b[39m'\u001b[39;49m)   \u001b[39m#gives encoding error as md5 does not accept string but encoded string\u001b[39;00m\n\u001b[0;32m      4\u001b[0m b\u001b[39m=\u001b[39m hashlib\u001b[39m.\u001b[39mmd5(\u001b[39m'\u001b[39m\u001b[39mThe tale of two cities\u001b[39m\u001b[39m'\u001b[39m\u001b[39m.\u001b[39mencode(\u001b[39m'\u001b[39m\u001b[39mutf-8\u001b[39m\u001b[39m'\u001b[39m))   \u001b[39m#returns hash objecta\u001b[39;00m\n\u001b[0;32m      5\u001b[0m c\u001b[39m=\u001b[39m hashlib\u001b[39m.\u001b[39mmd5(\u001b[39m'\u001b[39m\u001b[39mThe tale of two cities\u001b[39m\u001b[39m'\u001b[39m\u001b[39m.\u001b[39mencode(\u001b[39m'\u001b[39m\u001b[39mutf-8\u001b[39m\u001b[39m'\u001b[39m))\u001b[39m.\u001b[39mdigest()  \u001b[39m#the md5 en-bacoded string\u001b[39;00m\n",
      "\u001b[1;31mTypeError\u001b[0m: Strings must be encoded before hashing"
     ]
    }
   ],
   "source": [
    "import hashlib\n",
    "\n",
    "a= hashlib.md5('The tale of two cities')   #gives encoding error as md5 does not accept string but encoded string\n",
    "b= hashlib.md5('The tale of two cities'.encode('utf-8'))   #returns hash objecta\n",
    "c= hashlib.md5('The tale of two cities'.encode('utf-8')).digest()  #the md5 en-bacoded string\n",
    "d= hashlib.md5('The tale of two cities'.encode('utf-8')).hexdigest()\n"
   ]
  },
  {
   "cell_type": "code",
   "execution_count": 77,
   "metadata": {},
   "outputs": [
    {
     "data": {
      "text/plain": [
       "<function str.isdigit()>"
      ]
     },
     "execution_count": 77,
     "metadata": {},
     "output_type": "execute_result"
    }
   ],
   "source": [
    "import hashlib\n",
    "\n",
    "hash= input(\"Enter your decycript key : \")\n",
    "a=hashlib.md5\n",
    "a"
   ]
  },
  {
   "cell_type": "code",
   "execution_count": null,
   "metadata": {},
   "outputs": [],
   "source": []
  }
 ],
 "metadata": {
  "kernelspec": {
   "display_name": "Python 3.10.5 64-bit",
   "language": "python",
   "name": "python3"
  },
  "language_info": {
   "codemirror_mode": {
    "name": "ipython",
    "version": 3
   },
   "file_extension": ".py",
   "mimetype": "text/x-python",
   "name": "python",
   "nbconvert_exporter": "python",
   "pygments_lexer": "ipython3",
   "version": "3.10.5"
  },
  "orig_nbformat": 4,
  "vscode": {
   "interpreter": {
    "hash": "c8251b9bc52378f6afdf5d81e6c7884f9d71e1e5d8da0db69c40a14f28e8a63f"
   }
  }
 },
 "nbformat": 4,
 "nbformat_minor": 2
}
